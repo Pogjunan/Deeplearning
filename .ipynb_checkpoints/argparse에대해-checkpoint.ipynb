{
 "cells": [
  {
   "cell_type": "markdown",
   "id": "bfe26ffb-f9c1-4c9d-9391-0bc240780935",
   "metadata": {},
   "source": [
    "# parse 란?"
   ]
  },
  {
   "cell_type": "markdown",
   "id": "4670b83f-7494-4f2a-bdff-41204f765e12",
   "metadata": {},
   "source": [
    "- `https://docs.python.org/ko/3.7/library/argparse.html` "
   ]
  },
  {
   "cell_type": "markdown",
   "id": "db182742-a826-4f93-9a38-3c2a0b276cc1",
   "metadata": {},
   "source": [
    "`-` py 로 만들어 놓은 파일에서 여러가지 명령행 실행으로 도움말 메시지를 줄 수 있는 기능\n",
    "<br>\n",
    "\n",
    "import argparse"
   ]
  },
  {
   "cell_type": "code",
   "execution_count": 3,
   "id": "6260d4a9-971b-4a89-816a-f2ccf9b3e493",
   "metadata": {},
   "outputs": [],
   "source": [
    "import argparse\n",
    "\n",
    "# prog.py 처럼 python 파일을 만들어놓고 실행해야함. ipynb 파일에서는 실행이 불가한 것으로 보인다."
   ]
  },
  {
   "cell_type": "markdown",
   "id": "0e16e8d5-be16-4dc3-8e3e-28605abb965c",
   "metadata": {},
   "source": [
    "#### argparse 는 ipynb 에서 사용해보면 메시지를 보여주며 실행이 되지 않음. -> prog.py 예시보기"
   ]
  },
  {
   "cell_type": "code",
   "execution_count": null,
   "id": "2220abe2-ee7e-4b7c-abea-2065a59e13a9",
   "metadata": {},
   "outputs": [],
   "source": []
  }
 ],
 "metadata": {
  "kernelspec": {
   "display_name": "deep",
   "language": "python",
   "name": "deep"
  },
  "language_info": {
   "codemirror_mode": {
    "name": "ipython",
    "version": 3
   },
   "file_extension": ".py",
   "mimetype": "text/x-python",
   "name": "python",
   "nbconvert_exporter": "python",
   "pygments_lexer": "ipython3",
   "version": "3.11.9"
  }
 },
 "nbformat": 4,
 "nbformat_minor": 5
}
