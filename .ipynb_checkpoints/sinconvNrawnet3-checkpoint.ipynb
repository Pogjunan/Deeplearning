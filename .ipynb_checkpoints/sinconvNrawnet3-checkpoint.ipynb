{
 "cells": [
  {
   "cell_type": "markdown",
   "id": "a68e75fa-7d15-4442-ba8b-f906cbb0862d",
   "metadata": {},
   "source": [
    "# sigconv 와 rawnet , rawnet3 의 차원에 대해"
   ]
  },
  {
   "cell_type": "code",
   "execution_count": null,
   "id": "f4f2a93c-04e3-4298-90a7-8fdc7c026a79",
   "metadata": {},
   "outputs": [],
   "source": []
  }
 ],
 "metadata": {
  "kernelspec": {
   "display_name": "deep",
   "language": "python",
   "name": "deep"
  },
  "language_info": {
   "codemirror_mode": {
    "name": "ipython",
    "version": 3
   },
   "file_extension": ".py",
   "mimetype": "text/x-python",
   "name": "python",
   "nbconvert_exporter": "python",
   "pygments_lexer": "ipython3",
   "version": "3.11.9"
  }
 },
 "nbformat": 4,
 "nbformat_minor": 5
}
