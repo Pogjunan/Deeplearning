{
 "cells": [
  {
   "cell_type": "markdown",
   "id": "e0b12de3-6e9a-430d-8643-21118a21744e",
   "metadata": {
    "jp-MarkdownHeadingCollapsed": true
   },
   "source": [
    "# git clone ~\n",
    "```python\n",
    "git clone https://github.com/Jungjee/RawNet.git\n",
    "```\n",
    "\n",
    "git clone 으로 python 에서 가져오기"
   ]
  },
  {
   "cell_type": "markdown",
   "id": "e109cd83-b9d3-4ac0-939d-8422a60d030f",
   "metadata": {},
   "source": [
    "# 필요 패키지 설치\n",
    "\n",
    "<br>\n",
    "\n",
    "pip install -r requirements.txt"
   ]
  },
  {
   "cell_type": "markdown",
   "id": "88f5515d-7949-4e1a-a8c7-2939e812d063",
   "metadata": {},
   "source": [
    "# 모델 정의하기"
   ]
  },
  {
   "cell_type": "code",
   "execution_count": null,
   "id": "3358cd64-85d5-4ead-9092-1bf42082911e",
   "metadata": {},
   "outputs": [],
   "source": [
    "import torch.nn as nn\n",
    "\n",
    "class RawNet3(nn.Module):\n",
    "    def __init__(self):\n",
    "        super(RawNet3, self).__init__()\n",
    "       \n",
    "\n",
    "    def forward(self, x):\n",
    "       \n",
    "        return x"
   ]
  },
  {
   "cell_type": "markdown",
   "id": "6a20535a-4cdc-4419-b12e-0c118e49e957",
   "metadata": {},
   "source": [
    "# github 보면서 from 과 import 잘 보면서 정의하기\n",
    "\n"
   ]
  },
  {
   "cell_type": "code",
   "execution_count": null,
   "id": "e15393a3-7126-484e-90a4-e9b9da27e75d",
   "metadata": {},
   "outputs": [],
   "source": [
    "from RawNet3 import RawNet3\n",
    "\n",
    "# 기존의 RawNet 모델\n",
    "# model = RawNet()\n",
    "\n",
    "# RawNet3 모델로 변경\n",
    "model = RawNet3()\n",
    "\n",
    "# GPU 사용 설정\n",
    "if torch.cuda.is_available():\n",
    "    model = model.cuda()\n",
    "\n",
    "# 모델 요약\n",
    "from torchsummary import summary\n",
    "summary(model, (1, 16000))\n",
    "\n",
    "# 모델 학습 및 평가 코드\n",
    "# train_model(model, ...)\n",
    "# evaluate_model(model, ...)"
   ]
  },
  {
   "cell_type": "markdown",
   "id": "6ebc98e4-3682-4efb-a204-3c630abd9ad9",
   "metadata": {},
   "source": [
    "# 데이터로더와 학습방식"
   ]
  },
  {
   "cell_type": "code",
   "execution_count": null,
   "id": "767219fa-f62a-4952-824d-38ca6a05c51b",
   "metadata": {},
   "outputs": [],
   "source": [
    "import torch\n",
    "from torch.utils.data import DataLoader, Dataset\n",
    "\n",
    "class CustomDataset(Dataset):\n",
    "    def __init__(self, data_path):\n",
    "        # 데이터 로드 및 전처리\n",
    "\n",
    "    def __len__(self):\n",
    "        return len(self.data)\n",
    "\n",
    "    def __getitem__(self, idx):\n",
    "        # 데이터 반환\n",
    "        return self.data[idx]\n",
    "\n",
    "# 데이터 로더 설정\n",
    "train_dataset = CustomDataset('train/data')\n",
    "train_loader = DataLoader(train_dataset, batch_size=32, shuffle=True)\n",
    "\n",
    "# 모델 학습 루프\n",
    "for epoch in range(num_epochs):\n",
    "    model.train()\n",
    "    for batch in train_loader:\n",
    "        inputs, labels = batch\n",
    "        if torch.cuda.is_available():\n",
    "            inputs, labels = inputs.cuda(), labels.cuda()\n",
    "\n",
    "        # 모델 학습\n",
    "        optimizer.zero_grad()\n",
    "        outputs = model(inputs)\n",
    "        loss = criterion(outputs, labels)\n",
    "        loss.backward()\n",
    "        optimizer.step()"
   ]
  },
  {
   "cell_type": "markdown",
   "id": "14cbf52c-3ec4-4fa4-87d2-532e7b879fca",
   "metadata": {},
   "source": [
    "# 모델 학습과 평가"
   ]
  },
  {
   "cell_type": "code",
   "execution_count": null,
   "id": "7944c597-8ab3-420b-a78b-9ff59391a641",
   "metadata": {},
   "outputs": [],
   "source": [
    "import torch.optim as optim\n",
    "\n",
    "# 옵티마이저 및 손실 함수 설정\n",
    "optimizer = optim.Adam(model.parameters(), lr=0.001)\n",
    "criterion = nn.CrossEntropyLoss()\n",
    "\n",
    "# 학습 루프\n",
    "num_epochs = 50\n",
    "for epoch in range(num_epochs):\n",
    "    model.train()\n",
    "    running_loss = 0.0\n",
    "    for inputs, labels in train_loader:\n",
    "        if torch.cuda.is_available():\n",
    "            inputs, labels = inputs.cuda(), labels.cuda()\n",
    "\n",
    "        optimizer.zero_grad()\n",
    "        outputs = model(inputs)\n",
    "        loss = criterion(outputs, labels)\n",
    "        loss.backward()\n",
    "        optimizer.step()\n",
    "\n",
    "        running_loss += loss.item()\n",
    "\n",
    "    print(f'Epoch {epoch+1}/{num_epochs}, Loss: {running_loss/len(train_loader)}')\n",
    "\n",
    "# 평가 루프\n",
    "model.eval()\n",
    "with torch.no_grad():\n",
    "    correct = 0\n",
    "    total = 0\n",
    "    for inputs, labels in test_loader:\n",
    "        if torch.cuda.is_available():\n",
    "            inputs, labels = inputs.cuda(), labels.cuda()\n",
    "        outputs = model(inputs)\n",
    "        _, predicted = torch.max(outputs.data, 1)\n",
    "        total += labels.size(0)\n",
    "        correct += (predicted == labels).sum().item()\n",
    "\n",
    "    print(f'Accuracy: {100 * correct / total}%')"
   ]
  },
  {
   "cell_type": "code",
   "execution_count": 3,
   "id": "4af1789b-8432-4481-9fc4-7247b88459c1",
   "metadata": {},
   "outputs": [],
   "source": [
    "# csv 로 바꾸면 끝"
   ]
  },
  {
   "cell_type": "code",
   "execution_count": null,
   "id": "46e9d1b4-fa34-4efe-865f-f2e399bf5927",
   "metadata": {},
   "outputs": [],
   "source": []
  }
 ],
 "metadata": {
  "kernelspec": {
   "display_name": "deep",
   "language": "python",
   "name": "deep"
  },
  "language_info": {
   "codemirror_mode": {
    "name": "ipython",
    "version": 3
   },
   "file_extension": ".py",
   "mimetype": "text/x-python",
   "name": "python",
   "nbconvert_exporter": "python",
   "pygments_lexer": "ipython3",
   "version": "3.11.9"
  }
 },
 "nbformat": 4,
 "nbformat_minor": 5
}
